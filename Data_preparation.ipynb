{
 "cells": [
  {
   "cell_type": "markdown",
   "metadata": {},
   "source": [
    "# Benchmarking Attention-Based Interpretability of Deep Learning in Multivariate Time SeriesPredictions\n",
    "Domjan Barić, Petar Fumić, Davor Horvatić, and Tomislav Lipić\n",
    "\n",
    "[Special Issue \"Human-Centric AI: The Symbiosis of Human and Artificial Intelligence\"](https://www.mdpi.com/journal/entropy/special_issues/Human-Centric_AI)"
   ]
  },
  {
   "cell_type": "markdown",
   "metadata": {},
   "source": [
    "# Synthetic time series datasets - Quantitative and qualitative analysis "
   ]
  },
  {
   "cell_type": "code",
   "execution_count": null,
   "metadata": {},
   "outputs": [],
   "source": [
    "import os\n",
    "import pickle\n",
    "import numpy as np\n",
    "import torch\n",
    "import random\n",
    "\n",
    "import data_generator"
   ]
  },
  {
   "cell_type": "code",
   "execution_count": null,
   "metadata": {},
   "outputs": [],
   "source": [
    "seed=2293\n",
    "torch.manual_seed(seed)\n",
    "np.random.seed(seed)\n",
    "random.seed(seed)"
   ]
  },
  {
   "cell_type": "code",
   "execution_count": null,
   "metadata": {},
   "outputs": [],
   "source": [
    "if not os.path.exists('./mdpi_manuscript_data'):\n",
    "    os.makedirs('./mdpi_manuscript_data')\n",
    "    \n",
    "if not os.path.exists('./mdpi_manuscript_data/quant_qual_analysis'):\n",
    "    os.makedirs('./mdpi_manuscript_data/quant_qual_analysis')\n",
    "    \n",
    "if not os.path.exists('./mdpi_manuscript_data/stres_frequency'):\n",
    "    os.makedirs('./mdpi_manuscript_data/stres_frequency')\n",
    "    \n",
    "if not os.path.exists('./mdpi_manuscript_data/stres_std'):\n",
    "    os.makedirs('./mdpi_manuscript_data/stres_std')\n",
    "    \n",
    "if not os.path.exists('./mdpi_manuscript_data/stres_max_num_series'):\n",
    "    os.makedirs('./mdpi_manuscript_data/stres_max_num_series')\n",
    "    \n",
    "if not os.path.exists('./mdpi_manuscript_data/stres_max_num_series'):\n",
    "    os.makedirs('./mdpi_manuscript_data/stres_max_num_series')\n",
    "    \n",
    "if not os.path.exists('./mdpi_manuscript_data/stat_model'):\n",
    "    os.makedirs('./mdpi_manuscript_data/stat_model')"
   ]
  },
  {
   "cell_type": "code",
   "execution_count": null,
   "metadata": {},
   "outputs": [],
   "source": [
    "mean=0\n",
    "std=0.1\n",
    "frequency=0.3\n",
    "max_num_of_series=5\n",
    "max_lag=10"
   ]
  },
  {
   "cell_type": "markdown",
   "metadata": {},
   "source": [
    "## Dataset 1 - N constant time series\n",
    "\n",
    "$$X_{n,t}=C_n + \\epsilon_t,\\quad C_n=N(0,1)$$"
   ]
  },
  {
   "cell_type": "code",
   "execution_count": null,
   "metadata": {},
   "outputs": [],
   "source": [
    "dataset1=data_generator.dataset1(20000,number_of_timeseries=max_num_of_series,noise_frequency=frequency,mu=mean,sigma=std)\n",
    "\n",
    "pickle.dump((None,dataset1),open('./mdpi_manuscript_data/quant_qual_analysis/dataset1.pickle','wb'))"
   ]
  },
  {
   "cell_type": "markdown",
   "metadata": {},
   "source": [
    "## Dataset 2 - N autoregressive time series\n",
    "\n",
    "$$X_{n,t}= c_{t_{lag}} X_{n,t-t_{lag}}+ \\epsilon_t,\\quad c_3=1/2,c_7=1/2$$"
   ]
  },
  {
   "cell_type": "code",
   "execution_count": null,
   "metadata": {},
   "outputs": [],
   "source": [
    "dataset2=data_generator.dataset2(20000,number_of_timeseries=max_num_of_series,coef_lag_list=[(1,3),(1,7)],noise_frequency=frequency,mu=mean,sigma=std)\n",
    "\n",
    "pickle.dump((None,dataset2),open('./mdpi_manuscript_data/quant_qual_analysis/dataset2.pickle','wb'))"
   ]
  },
  {
   "cell_type": "markdown",
   "metadata": {},
   "source": [
    "## Dataset 3 - N nonlinear autoregressive time series\n",
    "\n",
    "$$X_{n,t}=\\tanh(c_{t_{lag}} X_{n,t-t_{lag}}+ \\epsilon_t),\\quad c_3=5/7,c_7=1/7,c_9=1/7$$"
   ]
  },
  {
   "cell_type": "code",
   "execution_count": null,
   "metadata": {},
   "outputs": [],
   "source": [
    "dataset3=data_generator.dataset3(20000,number_of_timeseries=max_num_of_series,coef_lag_list=[(5,3),(1,7),(1,9)],noise_frequency=frequency,mu=mean,sigma=std)\n",
    "\n",
    "pickle.dump((None,dataset3),open('./mdpi_manuscript_data/quant_qual_analysis/dataset3.pickle','wb'))"
   ]
  },
  {
   "cell_type": "markdown",
   "metadata": {},
   "source": [
    "## Dataset 4 - two interdependent time series without autoregression\n",
    "\n",
    "$$X_{1-n,t}=c_{t_{lag}} X_{n,t-t_{lag}}+ \\epsilon_t,\\quad c_2=2/5,c_5=1/5,c_9=2/5$$"
   ]
  },
  {
   "cell_type": "code",
   "execution_count": null,
   "metadata": {},
   "outputs": [],
   "source": [
    "dataset4=data_generator.dataset4(20000,coef_lag_list=[(2,2),(2,9),(1,5)],noise_frequency=frequency,mu=mean,sigma=std)\n",
    "\n",
    "pickle.dump((None,dataset4),open('./mdpi_manuscript_data/quant_qual_analysis/dataset4.pickle','wb'))"
   ]
  },
  {
   "cell_type": "markdown",
   "metadata": {},
   "source": [
    "## Dataset 5 - First time series is autoregressive, all other time series are calculated from first\n",
    "\n",
    "\\begin{align}\n",
    "X_{n,t}&=c_{n,t_{lag}} X_{0,t-t_{lag}}+ \\epsilon_t\\\\\n",
    "&\\\\\\\n",
    "c_{0,3}&=1/2,c_{0,4}=1/2 \\\\\n",
    "c_{1,9}&=1\\\\\n",
    "c_{2,2}&=1/2,c_{2,7}=1/2\\\\\n",
    "c_{3,3}&=1/10,c_{3,4}=1/10,c_{3,8}=4/5\\\\\n",
    "c_{4,2}&=1/3,c_{4,5}=2/9,c_{3,8}=4/9\n",
    "\\end{align}"
   ]
  },
  {
   "cell_type": "code",
   "execution_count": null,
   "metadata": {},
   "outputs": [],
   "source": [
    "coef_lag_list_linear_auto_cross=[[(1,3),(1,4)],\n",
    "                                [(1,9)],\n",
    "                                [(1,2),(1,7)],\n",
    "                                [(8,8),(1,3),(1,4)],\n",
    "                                [(3,2),(2,5),(4,8)]]\n",
    "\n",
    "dataset5=data_generator.dataset5(20000,number_of_timeseries=max_num_of_series,coef_lag_list=coef_lag_list_linear_auto_cross,noise_frequency=frequency,mu=mean,sigma=std)\n",
    "\n",
    "pickle.dump((None,dataset5),open('./mdpi_manuscript_data/quant_qual_analysis/dataset5.pickle','wb'))"
   ]
  },
  {
   "cell_type": "markdown",
   "metadata": {},
   "source": [
    "## Dataset 6 - First time series is nolinear autoregressive, all other time series are calculated from first\n",
    "\n",
    "\\begin{align}\n",
    "X_{n,t}&=\\tanh(C_{n,t_{lag}} X_{0,t-t_{lag}}+ \\epsilon_t )\\\\\n",
    "&\\\\\n",
    "c_{0,3}&=1/2,c_{0,4}=1/2\\\\\n",
    "c_{1,9}&=1\\\\\n",
    "c_{2,2}&=1/2,c_{2,7}=1/2\\\\\n",
    "c_{3,3}&=1/10,c_{3,4}=1/10,c_{3,8}=4/5\\\\\n",
    "c_{4,2}&=1/3,c_{4,5}=2/9,c_{3,8}=4/9\n",
    "\\end{align}"
   ]
  },
  {
   "cell_type": "code",
   "execution_count": null,
   "metadata": {},
   "outputs": [],
   "source": [
    "coef_lag_list_linear_auto_cross=[[(1,3)],\n",
    "                                [(1,9)],\n",
    "                                [(1,2),(1,7)],\n",
    "                                [(8,8),(1,3),(1,4)],\n",
    "                                [(3,2),(2,5),(4,8)]]\n",
    "\n",
    "dataset6=data_generator.dataset6(20000,number_of_timeseries=max_num_of_series,coef_lag_list=coef_lag_list_linear_auto_cross,noise_frequency=frequency,mu=mean,sigma=std)\n",
    "\n",
    "pickle.dump((None,dataset6),open('./mdpi_manuscript_data/quant_qual_analysis/dataset6.pickle','wb'))"
   ]
  },
  {
   "cell_type": "markdown",
   "metadata": {},
   "source": [
    "## Dataset 7 - custom vector autoregression model\n",
    "\n",
    "\\begin{align}\n",
    "X_{0,t} &= c_{0,1} X_{0,t-1} + c_{0,5} X_{0,t-5} + \\epsilon_t,\\quad c_{0,1}=1/4,c_{0,5}=3/4\\\\ \n",
    "X_{1,t} &= 1+c_{1,2} X_{0,t-2} + \\epsilon_t,\\quad c_{1,2}=-1\\\\ \n",
    "X_{2,t} &= c_{2,1} X_{1,t-1} + c_{2,4} X_{3,t-4} + \\epsilon_t,\\quad c_{2,1}=1,c_{2,4}=1\\\\ \n",
    "X_{3,t} &= 1+c_{3,4} X_{2,t-4} + c_{3,1}X_{0,t-1} + \\epsilon_t,\\quad c_{3,4}=-2/7,c_{3,1}=5/7\\\\ \n",
    "X_{4,t} &= c_{4,4} X_{4,t-4} + c_{4,1} X_{1,t-1} + \\epsilon_t,\\quad c_{4,4}=12/22,c_{4,1}=10/22 \n",
    "\\end{align}"
   ]
  },
  {
   "cell_type": "code",
   "execution_count": null,
   "metadata": {},
   "outputs": [],
   "source": [
    "dataset7=data_generator.dataset7(20000,noise_frequency=frequency,mu=mean,sigma=std)\n",
    "\n",
    "pickle.dump((None,dataset7),open('./mdpi_manuscript_data/quant_qual_analysis/dataset7.pickle','wb'))"
   ]
  },
  {
   "cell_type": "markdown",
   "metadata": {},
   "source": [
    "## Dataset 8 - switching time series\n",
    "\n",
    "\\begin{align}\n",
    "\\mathrm{if} X_{0,t-5} &> {}1/2:\\\\\n",
    "X_{0,t} &= c_{0,1} X_{0,t-1} + c_{0,3} X_{0,t-3} + \\epsilon_t\\\\ \n",
    "X_{1,t} &=  X_{0,t-5} + \\epsilon_t\\\\ \n",
    "X_{2,t} &= X_{0,t-4} + \\epsilon_t\\\\\n",
    "X_{3,t} &= c_{3,1} X_{3,t-1} + c_{3,4} X_{3,t-4} + \\epsilon_t\\\\\n",
    "\\mathrm{else:}\\\\\n",
    "X_{0,t} &= c_{0,1} X_{0,t-1} + c_{0,3} X_{0,t-3} + \\epsilon_t\\\\\n",
    "X_{1,t} &= X_{3,t-2} + \\epsilon_t\\\\ \n",
    "X_{2,t} &= X_{3,t-4} + \\epsilon_t\\\\ \n",
    "X_{3,t} &= c_{3,1} X_{3,t-1} + c_{3,4} X_{3,t-4} + \\epsilon_t\\\\\n",
    "&\\\\\n",
    "c_{0,1}=1/2&,c_{0,3}=1/2\\\\\n",
    "c_{3,1}=1/2&,c_{3,4}=1/2\n",
    "\\end{align}\n",
    "\n"
   ]
  },
  {
   "cell_type": "code",
   "execution_count": null,
   "metadata": {},
   "outputs": [],
   "source": [
    "dataset8=data_generator.dataset8(20000,0.5,noise_frequency=frequency,mu=mean,sigma=std)\n",
    "\n",
    "pickle.dump((None,dataset8),open('./mdpi_manuscript_data/quant_qual_analysis/dataset8.pickle','wb'))"
   ]
  },
  {
   "cell_type": "markdown",
   "metadata": {},
   "source": [
    "## Dataset 9 -  Ising model on first-order 2D square lattice\n",
    "\n",
    "$$H(\\sigma)=-\\sum_{\\langle i,j\\rangle} J_{i,j}\\sigma_i\\sigma_j-\\mu\\sum_{j}h_j\\sigma_j,\\quad T=2, T_c, 2.75$$"
   ]
  },
  {
   "cell_type": "code",
   "execution_count": null,
   "metadata": {},
   "outputs": [],
   "source": [
    "for t in [2,2.269185,2.75]:\n",
    "\n",
    "    ts=data_generator.dataset9(t)\n",
    "    print(ts.shape)\n",
    "    note_dict=dict()\n",
    "    note_dict['physics']='Ising'\n",
    "    note_dict['order']=1\n",
    "    note_dict['shape']=(10,10)\n",
    "    note_dict['T']=t\n",
    "    pickle.dump((note_dict,ts),open(f'./mdpi_manuscript_data/stat_model/dataset9_T{t}.pickle','wb'))"
   ]
  },
  {
   "cell_type": "markdown",
   "metadata": {},
   "source": [
    "## Dataset 10 - Logistic map inspired model\n",
    "\n",
    "\\begin{align}\n",
    "X_{0,t} &= r X_{0,t-3} (1-X_{0,t-3})\\\\ \n",
    "X_{1,t} &= r X_{1,t-5} (1-X_{1,t-5})\\\\\n",
    "X_{2,t} &= 1/2 X_{0,t-3} + 1/2 X_{1,t-5}\n",
    "&\\\\\n",
    "r&=1.5, 2.5, 3.2, 3.55, 3.56996\n",
    "\\end{align}"
   ]
  },
  {
   "cell_type": "code",
   "execution_count": null,
   "metadata": {},
   "outputs": [],
   "source": [
    "r_list=[1.5,2.5,3.2,3.55,3.57996]\n",
    "for r in r_list:\n",
    "    ts=data_generator.dataset10(20000,r)\n",
    "    note_dict=dict()\n",
    "    note_dict['physics']='Logistic'\n",
    "    note_dict['r']=r\n",
    "\n",
    "    pickle.dump((note_dict,ts),open('./mdpi_manuscript_data/stat_model/dataset10_'+ str(r) +'.pickle','wb'))"
   ]
  },
  {
   "cell_type": "markdown",
   "metadata": {},
   "source": [
    "# Sensitivity analysis"
   ]
  },
  {
   "cell_type": "markdown",
   "metadata": {},
   "source": [
    "### Frequency test"
   ]
  },
  {
   "cell_type": "code",
   "execution_count": null,
   "metadata": {},
   "outputs": [],
   "source": [
    "mean=0\n",
    "std=0.1\n",
    "max_num_of_series=5\n",
    "max_lag=10\n",
    "coef_lag_list=[[(1,6),(1,9)],[(1,7)],[(1,6),(2,7),(1,8)],[(8,8),(1,9)],[(3,6),(2,9),(1,8)]]"
   ]
  },
  {
   "cell_type": "code",
   "execution_count": null,
   "metadata": {},
   "outputs": [],
   "source": [
    "for frequency in range(0,105,5):\n",
    "    print(frequency,mean,std,max_num_of_series,max_lag)\n",
    "    frequency=frequency/100\n",
    "    dataset2_freq=data_generator.dataset2(20000,number_of_timeseries=max_num_of_series,coef_lag_list=coef_lag_list,noise_frequency=frequency,mu=mean,sigma=std)\n",
    "    pickle.dump((frequency,dataset2_freq),open(f'./mdpi_manuscript_data/stres_frequency/dataset2_{frequency}.pickle','wb'))\n",
    "    \n",
    "    dataset7_freq=data_generator.dataset7(20000,noise_frequency=frequency,mu=mean,sigma=std)\n",
    "    pickle.dump((frequency,dataset7_freq),open(f'./mdpi_manuscript_data/stres_frequency/dataset7_{frequency}.pickle','wb'))"
   ]
  },
  {
   "cell_type": "markdown",
   "metadata": {},
   "source": [
    "### Noise amount test"
   ]
  },
  {
   "cell_type": "code",
   "execution_count": null,
   "metadata": {},
   "outputs": [],
   "source": [
    "mean=0\n",
    "frequency=0.3\n",
    "max_num_of_series=5\n",
    "max_lag=10\n",
    "coef_lag_list=[[(1,6),(1,9)],[(1,7)],[(1,6),(2,7),(1,8)],[(8,8),(1,9)],[(3,6),(2,9),(1,8)]]"
   ]
  },
  {
   "cell_type": "code",
   "execution_count": null,
   "metadata": {},
   "outputs": [],
   "source": [
    "std_list=[0.01,0.05, 0.1, 0.2, 0.5,1,2,3,5]"
   ]
  },
  {
   "cell_type": "code",
   "execution_count": null,
   "metadata": {},
   "outputs": [],
   "source": [
    "for std in std_list:\n",
    "    print(std,mean,frequency,max_num_of_series,max_lag)\n",
    "    dataset2_amount=data_generator.dataset2(20000,number_of_timeseries=max_num_of_series,coef_lag_list=coef_lag_list,noise_frequency=frequency,mu=mean,sigma=std)\n",
    "    pickle.dump((std,dataset2_amount),open(f'./mdpi_manuscript_data/stres_std/dataset2_{std}.pickle','wb'))\n",
    "    \n",
    "    dataset7_amount=data_generator.dataset7(20000,noise_frequency=frequency,mu=mean,sigma=std)\n",
    "    pickle.dump((std,dataset7_amount),open(f'./mdpi_manuscript_data/stres_std/dataset7_{std}.pickle','wb'))"
   ]
  },
  {
   "cell_type": "markdown",
   "metadata": {},
   "source": [
    "### Number of time series test"
   ]
  },
  {
   "cell_type": "code",
   "execution_count": null,
   "metadata": {},
   "outputs": [],
   "source": [
    "mean=0\n",
    "frequency=0.3\n",
    "std=0.1\n",
    "max_lag=10"
   ]
  },
  {
   "cell_type": "code",
   "execution_count": null,
   "metadata": {},
   "outputs": [],
   "source": [
    "for max_num_of_series in range(3,21,2):\n",
    "    coef_lag_list=[]\n",
    "    lags=list(range(5,10))\n",
    "    for i in range(max_num_of_series):\n",
    "        numb_of_lags=random.randint(1,3)\n",
    "        lags_sample=random.sample(lags,numb_of_lags)\n",
    "        coef_lag=[]\n",
    "        for j in lags_sample:\n",
    "            coef_lag.append((random.randint(1,10),j))\n",
    "        coef_lag_list.append(coef_lag)\n",
    "    print(max_num_of_series,len(coef_lag_list),mean,frequency,std,max_lag)\n",
    "    dataset2_no_of_series=data_generator.dataset2(20000,number_of_timeseries=max_num_of_series,coef_lag_list=coef_lag_list,noise_frequency=frequency,mu=mean,sigma=std)\n",
    "    pickle.dump(((max_num_of_series,coef_lag_list),dataset2_no_of_series),open(f'./mdpi_manuscript_data/stres_max_num_series/dataset2_{max_num_of_series}.pickle','wb'))\n",
    "    \n",
    "    dataset5_no_of_series=data_generator.dataset5(20000,number_of_timeseries=max_num_of_series,coef_lag_list=coef_lag_list,noise_frequency=frequency,mu=mean,sigma=std)\n",
    "    pickle.dump(((max_num_of_series,coef_lag_list),dataset5_no_of_series),open(f'./mdpi_manuscript_data/stres_max_num_series/dataset5_{max_num_of_series}.pickle','wb'))"
   ]
  }
 ],
 "metadata": {
  "kernelspec": {
   "display_name": "Python 3",
   "language": "python",
   "name": "python3"
  },
  "language_info": {
   "codemirror_mode": {
    "name": "ipython",
    "version": 3
   },
   "file_extension": ".py",
   "mimetype": "text/x-python",
   "name": "python",
   "nbconvert_exporter": "python",
   "pygments_lexer": "ipython3",
   "version": "3.7.9"
  }
 },
 "nbformat": 4,
 "nbformat_minor": 4
}
